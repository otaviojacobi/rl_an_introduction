{
 "cells": [
  {
   "cell_type": "code",
   "execution_count": 201,
   "metadata": {},
   "outputs": [],
   "source": [
    "from enum import Enum\n",
    "from tabulate import tabulate\n",
    "from random import choice\n"
   ]
  },
  {
   "cell_type": "code",
   "execution_count": 221,
   "metadata": {},
   "outputs": [],
   "source": [
    "class Action(Enum):\n",
    "    UP = 0\n",
    "    DOWN = 1\n",
    "    LEFT = 2\n",
    "    RIGHT = 3\n",
    "\n",
    "class GridWorld:\n",
    "    def __init__(self, size=4, cur_state=[0,1]):\n",
    "        self._size = size\n",
    "        self._cur_state = cur_state\n",
    "                        \n",
    "    def __str__(self):\n",
    "        \n",
    "        table = [[' ' for _ in range(self._size)] for _ in range(self._size)]\n",
    "        table[self._cur_state[0]][self._cur_state[1]] = 'x'\n",
    "        \n",
    "        return tabulate(table, tablefmt='orgtbl')\n",
    "        \n",
    "    def step(self, action):\n",
    "        \n",
    "        if self._is_final_state():\n",
    "            return 0\n",
    "\n",
    "        if action == Action.UP:\n",
    "            self._cur_state[0] = max(0, self._cur_state[0] - 1)\n",
    "        elif action == Action.DOWN:\n",
    "            self._cur_state[0] = min(self._size - 1, self._cur_state[0] + 1)\n",
    "        elif action == Action.LEFT:\n",
    "            self._cur_state[1] = max(0, self._cur_state[1] - 1)\n",
    "        elif action == Action.RIGHT:\n",
    "            self._cur_state[1] = min(self._size - 1, self._cur_state[1] + 1)\n",
    "        \n",
    "        return -1\n",
    "            \n",
    "    def get_state(self):\n",
    "        return self._cur_state[0] * self._size + self._cur_state[1]\n",
    "    \n",
    "    def _is_final_state(self):\n",
    "        return self._cur_state == [0, 0] or self._cur_state == [self._size-1, self._size-1]"
   ]
  },
  {
   "cell_type": "code",
   "execution_count": 231,
   "metadata": {},
   "outputs": [],
   "source": [
    "GRID_SIZE = 4\n",
    "action_space = [Action(a) for a in list(range(GRID_SIZE))]\n",
    "\n",
    "\n",
    "V = [0.0 for k in range(GRID_SIZE ** 2)]\n",
    "for _ in range(10):\n",
    "    for i in range(GRID_SIZE):\n",
    "        for j in range(GRID_SIZE):\n",
    "            \n",
    "            if (i == 0 and j == 0) or (i == GRID_SIZE-1 and j == GRID_SIZE-1):\n",
    "                continue\n",
    "            \n",
    "            v = 0\n",
    "            for action in action_space:\n",
    "                gw = GridWorld(size=GRID_SIZE, cur_state=[i,j])\n",
    "                s = gw.get_state()\n",
    "                gw.step(action)\n",
    "                s_next = gw.get_state()\n",
    "                v +=  0.25 * V[s_next]\n",
    "\n",
    "            V[i * GRID_SIZE + j] = -1 + v"
   ]
  },
  {
   "cell_type": "code",
   "execution_count": 232,
   "metadata": {},
   "outputs": [
    {
     "name": "stdout",
     "output_type": "stream",
     "text": [
      "[0.0, -7.82506756017392, -11.121818717405404, -12.227655033372685, -7.82506756017392, -10.420371658008662, -11.769337388334861, -11.8633986227901, -11.121818717405404, -11.769337388334861, -11.053818103924186, -8.81387888655695, -12.227655033372685, -11.8633986227901, -8.81387888655695, 0.0]\n"
     ]
    }
   ],
   "source": [
    "print(V)"
   ]
  },
  {
   "cell_type": "code",
   "execution_count": 170,
   "metadata": {},
   "outputs": [],
   "source": [
    "gw = GridWorld(size=GRID_SIZE, cur_state=[0,1])"
   ]
  },
  {
   "cell_type": "code",
   "execution_count": 171,
   "metadata": {},
   "outputs": [
    {
     "name": "stdout",
     "output_type": "stream",
     "text": [
      "1\n",
      "0\n"
     ]
    }
   ],
   "source": [
    "print(gw.get_state())\n",
    "gw.step(Action(2))\n",
    "print(gw.get_state())"
   ]
  },
  {
   "cell_type": "code",
   "execution_count": 168,
   "metadata": {},
   "outputs": [
    {
     "data": {
      "text/plain": [
       "<Action.LEFT: 2>"
      ]
     },
     "execution_count": 168,
     "metadata": {},
     "output_type": "execute_result"
    }
   ],
   "source": [
    "Action(2)"
   ]
  },
  {
   "cell_type": "code",
   "execution_count": 161,
   "metadata": {},
   "outputs": [
    {
     "name": "stdout",
     "output_type": "stream",
     "text": [
      "0\n"
     ]
    }
   ],
   "source": []
  },
  {
   "cell_type": "code",
   "execution_count": 156,
   "metadata": {},
   "outputs": [
    {
     "name": "stdout",
     "output_type": "stream",
     "text": [
      "| x |  |  |  |\n",
      "|   |  |  |  |\n",
      "|   |  |  |  |\n",
      "|   |  |  |  |\n"
     ]
    }
   ],
   "source": [
    "print(gw)"
   ]
  },
  {
   "cell_type": "code",
   "execution_count": null,
   "metadata": {},
   "outputs": [],
   "source": []
  }
 ],
 "metadata": {
  "kernelspec": {
   "display_name": "Python 3",
   "language": "python",
   "name": "python3"
  },
  "language_info": {
   "codemirror_mode": {
    "name": "ipython",
    "version": 3
   },
   "file_extension": ".py",
   "mimetype": "text/x-python",
   "name": "python",
   "nbconvert_exporter": "python",
   "pygments_lexer": "ipython3",
   "version": "3.8.5"
  }
 },
 "nbformat": 4,
 "nbformat_minor": 4
}
