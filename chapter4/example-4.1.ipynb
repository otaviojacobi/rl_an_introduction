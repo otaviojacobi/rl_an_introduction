{
 "cells": [
  {
   "cell_type": "code",
   "execution_count": 248,
   "metadata": {},
   "outputs": [],
   "source": [
    "from enum import Enum\n",
    "from tabulate import tabulate\n",
    "from random import choice"
   ]
  },
  {
   "cell_type": "code",
   "execution_count": 249,
   "metadata": {},
   "outputs": [],
   "source": [
    "class Action(Enum):\n",
    "    UP = 0\n",
    "    DOWN = 1\n",
    "    LEFT = 2\n",
    "    RIGHT = 3\n",
    "\n",
    "class GridWorld:\n",
    "    def __init__(self, size=4, cur_state=[0,1]):\n",
    "        self._size = size\n",
    "        self._cur_state = cur_state\n",
    "                        \n",
    "    def __str__(self):\n",
    "        \n",
    "        table = [[' ' for _ in range(self._size)] for _ in range(self._size)]\n",
    "        table[self._cur_state[0]][self._cur_state[1]] = 'x'\n",
    "        \n",
    "        return tabulate(table, tablefmt='orgtbl')\n",
    "        \n",
    "    def step(self, action):\n",
    "        \n",
    "        if self._is_final_state():\n",
    "            return 0\n",
    "\n",
    "        if action == Action.UP:\n",
    "            self._cur_state[0] = max(0, self._cur_state[0] - 1)\n",
    "        elif action == Action.DOWN:\n",
    "            self._cur_state[0] = min(self._size - 1, self._cur_state[0] + 1)\n",
    "        elif action == Action.LEFT:\n",
    "            self._cur_state[1] = max(0, self._cur_state[1] - 1)\n",
    "        elif action == Action.RIGHT:\n",
    "            self._cur_state[1] = min(self._size - 1, self._cur_state[1] + 1)\n",
    "        \n",
    "        return -1\n",
    "            \n",
    "    def get_state(self):\n",
    "        return self._cur_state[0] * self._size + self._cur_state[1]\n",
    "    \n",
    "    def _is_final_state(self):\n",
    "        return self._cur_state == [0, 0] or self._cur_state == [self._size-1, self._size-1]"
   ]
  },
  {
   "cell_type": "code",
   "execution_count": 262,
   "metadata": {},
   "outputs": [],
   "source": [
    "GRID_SIZE = 4\n",
    "action_space = [Action(a) for a in list(range(GRID_SIZE))]\n",
    "\n",
    "\n",
    "V = [0.0 for k in range(GRID_SIZE ** 2)]\n",
    "for _ in range(1000):\n",
    "    for i in range(GRID_SIZE):\n",
    "        for j in range(GRID_SIZE):\n",
    "            \n",
    "            if (i == 0 and j == 0) or (i == GRID_SIZE-1 and j == GRID_SIZE-1):\n",
    "                continue\n",
    "            \n",
    "            v = 0\n",
    "            for action in action_space:\n",
    "                gw = GridWorld(size=GRID_SIZE, cur_state=[i,j])\n",
    "                s = gw.get_state()\n",
    "                gw.step(action)\n",
    "                s_next = gw.get_state()\n",
    "                v +=  0.25 * V[s_next]\n",
    "\n",
    "            V[i * GRID_SIZE + j] = -1 + v"
   ]
  },
  {
   "cell_type": "code",
   "execution_count": 263,
   "metadata": {},
   "outputs": [
    {
     "name": "stdout",
     "output_type": "stream",
     "text": [
      "[0.0, -13.999999999999986, -19.99999999999998, -21.99999999999998, -13.999999999999986, -17.999999999999982, -19.99999999999998, -19.99999999999998, -19.99999999999998, -19.99999999999998, -17.999999999999982, -13.999999999999986, -21.99999999999998, -19.99999999999998, -13.999999999999986, 0.0]\n"
     ]
    }
   ],
   "source": [
    "print(V)"
   ]
  },
  {
   "cell_type": "code",
   "execution_count": 266,
   "metadata": {},
   "outputs": [],
   "source": [
    "table = [V[i * GRID_SIZE:(i+1)*GRID_SIZE] for i in range(GRID_SIZE)]"
   ]
  },
  {
   "cell_type": "code",
   "execution_count": 267,
   "metadata": {},
   "outputs": [
    {
     "name": "stdout",
     "output_type": "stream",
     "text": [
      "|   0 | -14 | -20 | -22 |\n",
      "| -14 | -18 | -20 | -20 |\n",
      "| -20 | -20 | -18 | -14 |\n",
      "| -22 | -20 | -14 |   0 |\n"
     ]
    }
   ],
   "source": [
    "print(tabulate(table, tablefmt='orgtbl'))"
   ]
  },
  {
   "cell_type": "code",
   "execution_count": null,
   "metadata": {},
   "outputs": [],
   "source": []
  }
 ],
 "metadata": {
  "kernelspec": {
   "display_name": "Python 3",
   "language": "python",
   "name": "python3"
  },
  "language_info": {
   "codemirror_mode": {
    "name": "ipython",
    "version": 3
   },
   "file_extension": ".py",
   "mimetype": "text/x-python",
   "name": "python",
   "nbconvert_exporter": "python",
   "pygments_lexer": "ipython3",
   "version": "3.8.5"
  }
 },
 "nbformat": 4,
 "nbformat_minor": 4
}
